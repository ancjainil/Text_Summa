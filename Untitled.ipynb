{
 "cells": [
  {
   "cell_type": "code",
   "execution_count": 6,
   "id": "c390b472",
   "metadata": {},
   "outputs": [],
   "source": [
    "from urllib.request import urlopen\n",
    "import pickle\n"
   ]
  },
  {
   "cell_type": "code",
   "execution_count": 7,
   "id": "01ca2b93",
   "metadata": {},
   "outputs": [],
   "source": [
    "html_doc = ''\n",
    "with urlopen('https://gu.wikipedia.org/wiki/%E0%AA%AE%E0%AB%81%E0%AA%96%E0%AA%AA%E0%AB%83%E0%AA%B7%E0%AB%8D%E0%AA%A0') as response:\n",
    "    for line in response:\n",
    "        line = line.decode('utf-8')\n",
    "        html_doc = html_doc + line.replace('\\n','')"
   ]
  },
  {
   "cell_type": "code",
   "execution_count": 8,
   "id": "0e1cca9a",
   "metadata": {},
   "outputs": [],
   "source": [
    "from bs4 import BeautifulSoup\n",
    "soup = BeautifulSoup(html_doc, 'html.parser')"
   ]
  },
  {
   "cell_type": "code",
   "execution_count": 9,
   "id": "f547371b",
   "metadata": {},
   "outputs": [
    {
     "data": {
      "text/plain": [
       "'મુખપૃષ્ઠ'"
      ]
     },
     "execution_count": 9,
     "metadata": {},
     "output_type": "execute_result"
    }
   ],
   "source": [
    "soup.h1.string"
   ]
  },
  {
   "cell_type": "code",
   "execution_count": 10,
   "id": "f06039a2",
   "metadata": {},
   "outputs": [],
   "source": [
    "tab = soup.find(\"table\",{\"style\":\"border:2px solid #e1eaee; border-collapse:separate;font-size:120%\"})\n"
   ]
  },
  {
   "cell_type": "code",
   "execution_count": 11,
   "id": "1eddba94",
   "metadata": {},
   "outputs": [],
   "source": [
    "anchors = tab.find_all('a')"
   ]
  },
  {
   "cell_type": "code",
   "execution_count": 12,
   "id": "90add084",
   "metadata": {},
   "outputs": [],
   "source": [
    "home_url = 'https://gu.wikipedia.org' \n",
    "links = [home_url + anchor['href'] for anchor in anchors]"
   ]
  },
  {
   "cell_type": "code",
   "execution_count": 13,
   "id": "19c538af",
   "metadata": {},
   "outputs": [
    {
     "data": {
      "text/plain": [
       "54"
      ]
     },
     "execution_count": 13,
     "metadata": {},
     "output_type": "execute_result"
    }
   ],
   "source": [
    "len(links)"
   ]
  },
  {
   "cell_type": "code",
   "execution_count": 14,
   "id": "0f3b95a3",
   "metadata": {},
   "outputs": [],
   "source": [
    "all_links = []"
   ]
  },
  {
   "cell_type": "code",
   "execution_count": 19,
   "id": "ed2fed88",
   "metadata": {},
   "outputs": [
    {
     "name": "stdout",
     "output_type": "stream",
     "text": [
      "33717\n",
      "33717\n",
      "33717\n",
      "33717\n",
      "33717\n",
      "33717\n",
      "33717\n",
      "33717\n",
      "33717\n",
      "33717\n",
      "33717\n",
      "33717\n",
      "33717\n",
      "33717\n",
      "33717\n",
      "33717\n",
      "33717\n",
      "33717\n",
      "33717\n",
      "33717\n",
      "33717\n",
      "33717\n",
      "33717\n",
      "33717\n",
      "33717\n",
      "33717\n",
      "33717\n",
      "33717\n",
      "33717\n",
      "33717\n",
      "33717\n",
      "33717\n",
      "33717\n",
      "33717\n",
      "33717\n",
      "33717\n",
      "33717\n",
      "33717\n",
      "33717\n",
      "33717\n",
      "33717\n",
      "33717\n",
      "33717\n",
      "33717\n",
      "33717\n",
      "33717\n",
      "33717\n",
      "33717\n",
      "33717\n",
      "33717\n",
      "33717\n",
      "33717\n",
      "33717\n",
      "33717\n"
     ]
    }
   ],
   "source": [
    "# Main code\n",
    "prev_len = 0\n",
    "for link in links:    \n",
    "    while link:\n",
    "        html_doc = ''\n",
    "        with urlopen(link) as response:\n",
    "            for line in response:\n",
    "                line = line.decode('utf-8')\n",
    "                html_doc = html_doc + line.replace('\\n','')\n",
    "            soup = BeautifulSoup(html_doc, 'html.parser')\n",
    "            div = soup.find('div',{'class':'mw-allpages-body'})\n",
    "            if div:\n",
    "                anchors = div.find_all('a');\n",
    "                all_links = all_links + [home_url + anchor['href'] for anchor in anchors]\n",
    "                print(len(set(all_links)))\n",
    "            if prev_len == len(set(all_links)):\n",
    "                break\n",
    "            nav_div = soup.find('div',{'class':'mw-allpages-nav'})\n",
    "            if nav_div and len(nav_div.find_all('a')) == 2:\n",
    "                link = home_url + nav_div.find_all('a')[1]['href']\n",
    "            prev_len = len(set(all_links))\n",
    "            \n",
    "            "
   ]
  },
  {
   "cell_type": "code",
   "execution_count": 20,
   "id": "62b3460c",
   "metadata": {},
   "outputs": [
    {
     "data": {
      "text/plain": [
       "33717"
      ]
     },
     "execution_count": 20,
     "metadata": {},
     "output_type": "execute_result"
    }
   ],
   "source": [
    "len(set(all_links))\n"
   ]
  },
  {
   "cell_type": "code",
   "execution_count": 21,
   "id": "435dde77",
   "metadata": {},
   "outputs": [
    {
     "data": {
      "text/plain": [
       "33717"
      ]
     },
     "execution_count": 21,
     "metadata": {},
     "output_type": "execute_result"
    }
   ],
   "source": [
    "all_links = list(set(all_links)); len(all_links)"
   ]
  },
  {
   "cell_type": "code",
   "execution_count": null,
   "id": "dbcc50db",
   "metadata": {},
   "outputs": [],
   "source": [
    "with open('all_gujarati_wikipedia_links.pkl', 'wb') as f:\n",
    "    pickle.dump(all_links, f)"
   ]
  }
 ],
 "metadata": {
  "kernelspec": {
   "display_name": "Python 3 (ipykernel)",
   "language": "python",
   "name": "python3"
  },
  "language_info": {
   "codemirror_mode": {
    "name": "ipython",
    "version": 3
   },
   "file_extension": ".py",
   "mimetype": "text/x-python",
   "name": "python",
   "nbconvert_exporter": "python",
   "pygments_lexer": "ipython3",
   "version": "3.9.7"
  }
 },
 "nbformat": 4,
 "nbformat_minor": 5
}
